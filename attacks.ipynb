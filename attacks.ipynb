{
 "cells": [
  {
   "cell_type": "code",
   "execution_count": 1,
   "id": "59fb1ea1-5d6f-468e-b244-96f9d88f7ec3",
   "metadata": {},
   "outputs": [],
   "source": [
    "from imports import *\n",
    "from advertorch.attacks import LinfPGDAttack\n",
    "\n",
    "def gen_attack ( #this attack is a PGD (Projected Gradient Descent) attack with order=L-norm inf\n",
    "    model, \n",
    "    eps=0.01, #max distortion \n",
    "    nb_iter=40, #num of iters \n",
    "    eps_iter=0.002, #attack step size \n",
    "    clip_min=0.0, #min value per input dimension\n",
    "    clip_max=1.0, #max value per input dimension\n",
    "    targeted=False\n",
    "    ):\n",
    "\n",
    "    loss_fn = nn.CrossEntropyLoss(reduction='sum') #use sum since many attacks want the scalar loss value as a sum\n",
    "    attack = LinfPGDAttack(\n",
    "        model,\n",
    "        loss_fn=loss_fn,\n",
    "        eps=eps,\n",
    "        nb_iter=40,\n",
    "        eps_iter=eps_iter,\n",
    "        clip_min=clip_min,\n",
    "        clip_max=clip_max,\n",
    "        targeted=targeted\n",
    "        )\n",
    "    \n",
    "    return attack"
   ]
  },
  {
   "cell_type": "code",
   "execution_count": null,
   "id": "37d3a70a-c137-46df-8e8d-6e385deff040",
   "metadata": {},
   "outputs": [],
   "source": []
  },
  {
   "cell_type": "code",
   "execution_count": null,
   "id": "1352ac97-7107-4aea-bb8e-a6d93b1dc8e5",
   "metadata": {},
   "outputs": [],
   "source": []
  }
 ],
 "metadata": {
  "kernelspec": {
   "display_name": "Python 3 (ipykernel)",
   "language": "python",
   "name": "python3"
  },
  "language_info": {
   "codemirror_mode": {
    "name": "ipython",
    "version": 3
   },
   "file_extension": ".py",
   "mimetype": "text/x-python",
   "name": "python",
   "nbconvert_exporter": "python",
   "pygments_lexer": "ipython3",
   "version": "3.13.3"
  }
 },
 "nbformat": 4,
 "nbformat_minor": 5
}
